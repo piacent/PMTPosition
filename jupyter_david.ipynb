{
 "cells": [
  {
   "cell_type": "code",
   "execution_count": 3,
   "id": "503bdf7a-a414-4953-b5c4-2090de706495",
   "metadata": {},
   "outputs": [],
   "source": [
    "import numpy as np\n",
    "import pandas as pd\n",
    "import scipy.stats as st\n",
    "import matplotlib.pyplot as plt\n",
    "import PMTPosition as PMT"
   ]
  },
  {
   "cell_type": "code",
   "execution_count": 4,
   "id": "23347891-d6ba-4d59-bd2c-232535fb73b8",
   "metadata": {},
   "outputs": [
    {
     "name": "stdout",
     "output_type": "stream",
     "text": [
      "50.0 80.0 59.0\n"
     ]
    }
   ],
   "source": [
    "GEM_width,  GEM_height = PMT.GetGEMsDim()\n",
    "GEM_z_dist = PMT.GetGEMsZ()\n",
    "print(GEM_width,  GEM_height, GEM_z_dist)\n"
   ]
  },
  {
   "cell_type": "code",
   "execution_count": 4,
   "id": "8b686065-a05b-4346-abf7-028a3ee73433",
   "metadata": {},
   "outputs": [],
   "source": [
    "pos = PMT.GenEventPosition(x_offset = 0.0, y_offset = 0.0, size = 10, distribution = 'uniform')"
   ]
  },
  {
   "cell_type": "code",
   "execution_count": 5,
   "id": "c0de32ea-42e3-4d27-9c14-6b035b6bf657",
   "metadata": {},
   "outputs": [
    {
     "data": {
      "text/plain": [
       "array([[ 7.09259555,  5.12417455],\n",
       "       [42.85624014, 33.35098976],\n",
       "       [37.31427914, 39.69600984],\n",
       "       [35.79526661, 29.76109994],\n",
       "       [47.85655936, 64.51972875],\n",
       "       [48.15586501, 17.31932856],\n",
       "       [30.32561726,  6.63237398],\n",
       "       [ 6.55510875,  7.48612347],\n",
       "       [29.93467797, 39.72831071],\n",
       "       [12.68127593, 57.22374614]])"
      ]
     },
     "execution_count": 5,
     "metadata": {},
     "output_type": "execute_result"
    }
   ],
   "source": [
    "pos"
   ]
  },
  {
   "cell_type": "code",
   "execution_count": 6,
   "id": "29a8b226-b094-45eb-a53d-d16570ed5c5b",
   "metadata": {},
   "outputs": [],
   "source": [
    "R = PMT.GetR(PMT_pos = np.array([25.0, 40.0]), Event_pos = pos)"
   ]
  },
  {
   "cell_type": "code",
   "execution_count": 7,
   "id": "49bd50ef-41fe-4698-9fc7-42e35603f248",
   "metadata": {},
   "outputs": [
    {
     "data": {
      "text/plain": [
       "array([70.83783124, 62.00044072, 60.27216506, 60.84712693, 67.85749335,\n",
       "       67.31721133, 67.99088663, 69.84530178, 59.20662853, 62.68499337])"
      ]
     },
     "execution_count": 7,
     "metadata": {},
     "output_type": "execute_result"
    }
   ],
   "source": [
    "R"
   ]
  },
  {
   "cell_type": "code",
   "execution_count": 8,
   "id": "f203e979-814f-4bdb-87ee-1ede84eaf5ee",
   "metadata": {},
   "outputs": [],
   "source": [
    "PMT_pos = np.array([[25.0, 20.0], [25.0, 60.0]])\n",
    "R_all   = PMT.GetR_All(PMT_pos = PMT_pos, Event_pos = pos)"
   ]
  },
  {
   "cell_type": "code",
   "execution_count": 9,
   "id": "5a21b969-8e56-415d-a523-90891b3a74cd",
   "metadata": {},
   "outputs": [
    {
     "data": {
      "text/plain": [
       "(10, 2)"
      ]
     },
     "execution_count": 9,
     "metadata": {},
     "output_type": "execute_result"
    }
   ],
   "source": [
    "R_all.shape"
   ]
  },
  {
   "cell_type": "code",
   "execution_count": 10,
   "id": "8392b90b-7c0d-4098-ae98-4ac1cdc0d694",
   "metadata": {},
   "outputs": [
    {
     "data": {
      "text/plain": [
       "array([[63.42685013, 82.54108888],\n",
       "       [63.0721352 , 67.15664568],\n",
       "       [63.4079985 , 63.5994771 ],\n",
       "       [60.76855152, 67.17089294],\n",
       "       [77.36555147, 63.43382578],\n",
       "       [63.43800189, 76.4122621 ],\n",
       "       [60.72936377, 79.7337175 ],\n",
       "       [63.06989075, 81.11054951],\n",
       "       [62.40638822, 62.5802879 ],\n",
       "       [70.84037154, 60.33621258]])"
      ]
     },
     "execution_count": 10,
     "metadata": {},
     "output_type": "execute_result"
    }
   ],
   "source": [
    "R_all"
   ]
  },
  {
   "cell_type": "code",
   "execution_count": 11,
   "id": "61cb0fdf-224a-444c-9e7d-a22c227d98c1",
   "metadata": {},
   "outputs": [],
   "source": [
    "ints = PMT.GetIntegrals(R_all, energy = 5.9, LY = 8500.0)"
   ]
  },
  {
   "cell_type": "code",
   "execution_count": 12,
   "id": "7d1ad963-8388-4e01-b596-2b19175b8d42",
   "metadata": {},
   "outputs": [
    {
     "data": {
      "text/plain": [
       "array([[1.58652138e-04, 5.53168867e-05],\n",
       "       [1.62251369e-04, 1.26235795e-04],\n",
       "       [1.58840895e-04, 1.56936631e-04],\n",
       "       [1.88288140e-04, 1.26128729e-04],\n",
       "       [7.16717490e-05, 1.58582363e-04],\n",
       "       [1.58540609e-04, 7.53158320e-05],\n",
       "       [1.88774609e-04, 6.35287708e-05],\n",
       "       [1.62274466e-04, 5.93238230e-05],\n",
       "       [1.69286494e-04, 1.67412653e-04],\n",
       "       [1.01956562e-04, 1.93743136e-04]])"
      ]
     },
     "execution_count": 12,
     "metadata": {},
     "output_type": "execute_result"
    }
   ],
   "source": [
    "ints"
   ]
  },
  {
   "cell_type": "code",
   "execution_count": 2,
   "id": "c05e85bf-ec2e-427b-9dfa-af61d282970e",
   "metadata": {},
   "outputs": [
    {
     "name": "stdout",
     "output_type": "stream",
     "text": [
      "python sucks\n"
     ]
    }
   ],
   "source": [
    "print('python sucks')"
   ]
  }
 ],
 "metadata": {
  "kernelspec": {
   "display_name": "Python 3 (ipykernel)",
   "language": "python",
   "name": "python3"
  },
  "language_info": {
   "codemirror_mode": {
    "name": "ipython",
    "version": 3
   },
   "file_extension": ".py",
   "mimetype": "text/x-python",
   "name": "python",
   "nbconvert_exporter": "python",
   "pygments_lexer": "ipython3",
   "version": "3.9.5"
  }
 },
 "nbformat": 4,
 "nbformat_minor": 5
}
