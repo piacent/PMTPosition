{
 "cells": [
  {
   "cell_type": "code",
   "execution_count": 1,
   "id": "503bdf7a-a414-4953-b5c4-2090de706495",
   "metadata": {},
   "outputs": [],
   "source": [
    "import numpy as np\n",
    "import pandas as pd\n",
    "import scipy.stats as st\n",
    "import matplotlib.pyplot as plt"
   ]
  },
  {
   "cell_type": "code",
   "execution_count": 2,
   "id": "055a3982-11b6-49c4-bb9f-a5194fa55476",
   "metadata": {},
   "outputs": [],
   "source": [
    "import PMTPosition as PMT"
   ]
  },
  {
   "cell_type": "code",
   "execution_count": 3,
   "id": "23347891-d6ba-4d59-bd2c-232535fb73b8",
   "metadata": {},
   "outputs": [
    {
     "name": "stdout",
     "output_type": "stream",
     "text": [
      "50.0 80.0\n"
     ]
    }
   ],
   "source": [
    "GEM_width,  GEM_height = PMT.GetGEMsDim()\n",
    "print(GEM_width,  GEM_height)"
   ]
  },
  {
   "cell_type": "code",
   "execution_count": 4,
   "id": "8b686065-a05b-4346-abf7-028a3ee73433",
   "metadata": {},
   "outputs": [],
   "source": [
    "pos = PMT.GenEventPosition(x_offset = 0.0, y_offset = 0.0, size = 10, distribution = 'uniform')"
   ]
  },
  {
   "cell_type": "code",
   "execution_count": 5,
   "id": "c0de32ea-42e3-4d27-9c14-6b035b6bf657",
   "metadata": {},
   "outputs": [
    {
     "data": {
      "text/plain": [
       "array([[31.75895851, 66.22704158],\n",
       "       [48.15133093, 67.52664291],\n",
       "       [29.44806034, 71.54408941],\n",
       "       [ 6.934728  ,  9.18343751],\n",
       "       [46.15454274, 43.00349484],\n",
       "       [48.14723921, 20.32513859],\n",
       "       [27.79892323, 39.52139016],\n",
       "       [34.42151681, 72.61900668],\n",
       "       [19.44191315, 71.43779614],\n",
       "       [41.89404494, 46.89144624]])"
      ]
     },
     "execution_count": 5,
     "metadata": {},
     "output_type": "execute_result"
    }
   ],
   "source": [
    "pos"
   ]
  },
  {
   "cell_type": "code",
   "execution_count": null,
   "id": "29a8b226-b094-45eb-a53d-d16570ed5c5b",
   "metadata": {},
   "outputs": [],
   "source": []
  }
 ],
 "metadata": {
  "kernelspec": {
   "display_name": "Python 3 (ipykernel)",
   "language": "python",
   "name": "python3"
  },
  "language_info": {
   "codemirror_mode": {
    "name": "ipython",
    "version": 3
   },
   "file_extension": ".py",
   "mimetype": "text/x-python",
   "name": "python",
   "nbconvert_exporter": "python",
   "pygments_lexer": "ipython3",
   "version": "3.9.19"
  }
 },
 "nbformat": 4,
 "nbformat_minor": 5
}
