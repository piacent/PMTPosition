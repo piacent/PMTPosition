{
 "cells": [
  {
   "cell_type": "code",
   "execution_count": 1,
   "id": "503bdf7a-a414-4953-b5c4-2090de706495",
   "metadata": {},
   "outputs": [],
   "source": [
    "import numpy as np\n",
    "import pandas as pd\n",
    "import scipy.stats as st\n",
    "import matplotlib.pyplot as plt"
   ]
  },
  {
   "cell_type": "code",
   "execution_count": 2,
   "id": "055a3982-11b6-49c4-bb9f-a5194fa55476",
   "metadata": {},
   "outputs": [],
   "source": [
    "import PMTPosition as PMT"
   ]
  },
  {
   "cell_type": "code",
   "execution_count": 3,
   "id": "23347891-d6ba-4d59-bd2c-232535fb73b8",
   "metadata": {},
   "outputs": [
    {
     "name": "stdout",
     "output_type": "stream",
     "text": [
      "50.0 80.0\n"
     ]
    }
   ],
   "source": [
    "GEM_width,  GEM_height = PMT.GetGEMsDim()\n",
    "print(GEM_width,  GEM_height)"
   ]
  },
  {
   "cell_type": "code",
   "execution_count": 4,
   "id": "8b686065-a05b-4346-abf7-028a3ee73433",
   "metadata": {},
   "outputs": [],
   "source": [
    "pos = PMT.GenEventPosition(x_offset = 0.0, y_offset = 0.0, size = 10, distribution = 'uniform')"
   ]
  },
  {
   "cell_type": "code",
   "execution_count": 5,
   "id": "c0de32ea-42e3-4d27-9c14-6b035b6bf657",
   "metadata": {},
   "outputs": [
    {
     "data": {
      "text/plain": [
       "array([[47.4305727 , 61.39419815],\n",
       "       [19.79916332, 29.40717145],\n",
       "       [ 8.28824013, 72.04368821],\n",
       "       [14.7595145 , 69.68825613],\n",
       "       [41.35125194,  0.95028208],\n",
       "       [ 8.56249251, 16.47502834],\n",
       "       [ 3.95147375, 22.73725535],\n",
       "       [39.52380025,  0.87705018],\n",
       "       [38.9852283 , 61.37105827],\n",
       "       [33.80882747, 52.2516336 ]])"
      ]
     },
     "execution_count": 5,
     "metadata": {},
     "output_type": "execute_result"
    }
   ],
   "source": [
    "pos"
   ]
  },
  {
   "cell_type": "code",
   "execution_count": 6,
   "id": "29a8b226-b094-45eb-a53d-d16570ed5c5b",
   "metadata": {},
   "outputs": [],
   "source": [
    "R = PMT.GetR(PMT_pos = np.array([25.0, 40.0]), Event_pos = pos)"
   ]
  },
  {
   "cell_type": "code",
   "execution_count": 7,
   "id": "49bd50ef-41fe-4698-9fc7-42e35603f248",
   "metadata": {},
   "outputs": [
    {
     "data": {
      "text/plain": [
       "array([67.53400852, 61.14946213, 70.04342134, 67.72193216, 73.43189981,\n",
       "       66.51026946, 65.88659052, 73.08588083, 65.20972889, 61.86839231])"
      ]
     },
     "execution_count": 7,
     "metadata": {},
     "output_type": "execute_result"
    }
   ],
   "source": [
    "R"
   ]
  },
  {
   "cell_type": "code",
   "execution_count": null,
   "id": "f203e979-814f-4bdb-87ee-1ede84eaf5ee",
   "metadata": {},
   "outputs": [],
   "source": []
  }
 ],
 "metadata": {
  "kernelspec": {
   "display_name": "Python 3 (ipykernel)",
   "language": "python",
   "name": "python3"
  },
  "language_info": {
   "codemirror_mode": {
    "name": "ipython",
    "version": 3
   },
   "file_extension": ".py",
   "mimetype": "text/x-python",
   "name": "python",
   "nbconvert_exporter": "python",
   "pygments_lexer": "ipython3",
   "version": "3.9.19"
  }
 },
 "nbformat": 4,
 "nbformat_minor": 5
}
