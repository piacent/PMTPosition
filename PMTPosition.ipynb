{
 "cells": [
  {
   "cell_type": "code",
   "execution_count": 1,
   "id": "503bdf7a-a414-4953-b5c4-2090de706495",
   "metadata": {},
   "outputs": [],
   "source": [
    "import numpy as np\n",
    "import pandas as pd\n",
    "import scipy.stats as st\n",
    "import matplotlib.pyplot as plt"
   ]
  },
  {
   "cell_type": "code",
   "execution_count": 2,
   "id": "23347891-d6ba-4d59-bd2c-232535fb73b8",
   "metadata": {},
   "outputs": [],
   "source": [
    "GEM_width  = 50.0\n",
    "GEM_height = 80.0"
   ]
  },
  {
   "cell_type": "code",
   "execution_count": null,
   "id": "8b686065-a05b-4346-abf7-028a3ee73433",
   "metadata": {},
   "outputs": [],
   "source": []
  }
 ],
 "metadata": {
  "kernelspec": {
   "display_name": "Python 3 (ipykernel)",
   "language": "python",
   "name": "python3"
  },
  "language_info": {
   "codemirror_mode": {
    "name": "ipython",
    "version": 3
   },
   "file_extension": ".py",
   "mimetype": "text/x-python",
   "name": "python",
   "nbconvert_exporter": "python",
   "pygments_lexer": "ipython3",
   "version": "3.9.19"
  }
 },
 "nbformat": 4,
 "nbformat_minor": 5
}
