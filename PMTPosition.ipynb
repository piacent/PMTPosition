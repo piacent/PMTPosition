{
 "cells": [
  {
   "cell_type": "code",
   "execution_count": 1,
   "id": "503bdf7a-a414-4953-b5c4-2090de706495",
   "metadata": {},
   "outputs": [],
   "source": [
    "import numpy as np\n",
    "import pandas as pd\n",
    "import scipy.stats as st\n",
    "import matplotlib.pyplot as plt"
   ]
  },
  {
   "cell_type": "code",
   "execution_count": 2,
   "id": "055a3982-11b6-49c4-bb9f-a5194fa55476",
   "metadata": {},
   "outputs": [],
   "source": [
    "import PMTPosition as PMT"
   ]
  },
  {
   "cell_type": "code",
   "execution_count": 3,
   "id": "23347891-d6ba-4d59-bd2c-232535fb73b8",
   "metadata": {},
   "outputs": [
    {
     "name": "stdout",
     "output_type": "stream",
     "text": [
      "50.0 80.0\n"
     ]
    }
   ],
   "source": [
    "GEM_width,  GEM_height = PMT.GetGEMsDim()\n",
    "print(GEM_width,  GEM_height)"
   ]
  },
  {
   "cell_type": "code",
   "execution_count": 4,
   "id": "8b686065-a05b-4346-abf7-028a3ee73433",
   "metadata": {},
   "outputs": [],
   "source": [
    "pos = PMT.GenEventPosition(x_offset = 0.0, y_offset = 0.0, size = 10, distribution = 'uniform')"
   ]
  },
  {
   "cell_type": "code",
   "execution_count": 5,
   "id": "c0de32ea-42e3-4d27-9c14-6b035b6bf657",
   "metadata": {},
   "outputs": [
    {
     "data": {
      "text/plain": [
       "array([[12.05556541, 12.20397334],\n",
       "       [18.12305566, 56.05909648],\n",
       "       [ 8.38344564, 66.93955785],\n",
       "       [16.72144463, 67.0442327 ],\n",
       "       [24.50103197, 67.54255927],\n",
       "       [34.58446555, 46.05637893],\n",
       "       [ 3.74471026, 53.14113533],\n",
       "       [38.36815463, 42.11709012],\n",
       "       [ 3.46038241,  2.30309987],\n",
       "       [32.19076199, 46.21973179]])"
      ]
     },
     "execution_count": 5,
     "metadata": {},
     "output_type": "execute_result"
    }
   ],
   "source": [
    "pos"
   ]
  },
  {
   "cell_type": "code",
   "execution_count": 6,
   "id": "29a8b226-b094-45eb-a53d-d16570ed5c5b",
   "metadata": {},
   "outputs": [],
   "source": [
    "R = PMT.GetR(PMT_pos = np.array([25.0, 40.0]), Event_pos = pos)"
   ]
  },
  {
   "cell_type": "code",
   "execution_count": 7,
   "id": "49bd50ef-41fe-4698-9fc7-42e35603f248",
   "metadata": {},
   "outputs": [
    {
     "data": {
      "text/plain": [
       "array([67.38083915, 62.49149497, 67.83693431, 66.33193048, 66.02152331,\n",
       "       61.06178597, 64.9959751 , 61.50763878, 74.06086285, 60.74859769])"
      ]
     },
     "execution_count": 7,
     "metadata": {},
     "output_type": "execute_result"
    }
   ],
   "source": [
    "R"
   ]
  },
  {
   "cell_type": "code",
   "execution_count": 8,
   "id": "f203e979-814f-4bdb-87ee-1ede84eaf5ee",
   "metadata": {},
   "outputs": [],
   "source": [
    "PMT_pos = np.array([[25.0, 20.0], [25.0, 60.0]])\n",
    "R_all   = PMT.GetR_All(PMT_pos = PMT_pos, Event_pos = pos)"
   ]
  },
  {
   "cell_type": "code",
   "execution_count": 9,
   "id": "5a21b969-8e56-415d-a523-90891b3a74cd",
   "metadata": {},
   "outputs": [
    {
     "data": {
      "text/plain": [
       "(10, 2)"
      ]
     },
     "execution_count": 9,
     "metadata": {},
     "output_type": "execute_result"
    }
   ],
   "source": [
    "R_all.shape"
   ]
  },
  {
   "cell_type": "code",
   "execution_count": 10,
   "id": "8392b90b-7c0d-4098-ae98-4ac1cdc0d694",
   "metadata": {},
   "outputs": [
    {
     "data": {
      "text/plain": [
       "array([[61.87355185, 77.79472059],\n",
       "       [70.33882856, 60.52126142],\n",
       "       [77.97071226, 62.64397291],\n",
       "       [76.69220501, 60.97668155],\n",
       "       [76.55418937, 60.47428519],\n",
       "       [66.11200241, 62.34008781],\n",
       "       [71.76435183, 64.02211623],\n",
       "       [65.32896167, 64.01957532],\n",
       "       [66.15992292, 85.98190165],\n",
       "       [65.87246309, 61.98066513]])"
      ]
     },
     "execution_count": 10,
     "metadata": {},
     "output_type": "execute_result"
    }
   ],
   "source": [
    "R_all"
   ]
  },
  {
   "cell_type": "code",
   "execution_count": null,
   "id": "61cb0fdf-224a-444c-9e7d-a22c227d98c1",
   "metadata": {},
   "outputs": [],
   "source": []
  }
 ],
 "metadata": {
  "kernelspec": {
   "display_name": "Python 3 (ipykernel)",
   "language": "python",
   "name": "python3"
  },
  "language_info": {
   "codemirror_mode": {
    "name": "ipython",
    "version": 3
   },
   "file_extension": ".py",
   "mimetype": "text/x-python",
   "name": "python",
   "nbconvert_exporter": "python",
   "pygments_lexer": "ipython3",
   "version": "3.9.19"
  }
 },
 "nbformat": 4,
 "nbformat_minor": 5
}
