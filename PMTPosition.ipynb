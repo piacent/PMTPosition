{
 "cells": [
  {
   "cell_type": "code",
   "execution_count": 1,
   "id": "503bdf7a-a414-4953-b5c4-2090de706495",
   "metadata": {},
   "outputs": [],
   "source": [
    "import numpy as np\n",
    "import pandas as pd\n",
    "import scipy.stats as st\n",
    "import matplotlib.pyplot as plt"
   ]
  },
  {
   "cell_type": "code",
   "execution_count": 2,
   "id": "055a3982-11b6-49c4-bb9f-a5194fa55476",
   "metadata": {},
   "outputs": [],
   "source": [
    "import PMTPosition as PMT"
   ]
  },
  {
   "cell_type": "code",
   "execution_count": 3,
   "id": "23347891-d6ba-4d59-bd2c-232535fb73b8",
   "metadata": {},
   "outputs": [
    {
     "name": "stdout",
     "output_type": "stream",
     "text": [
      "50.0 80.0\n"
     ]
    }
   ],
   "source": [
    "GEM_width,  GEM_height = PMT.GetGEMsDim()\n",
    "print(GEM_width,  GEM_height)"
   ]
  },
  {
   "cell_type": "code",
   "execution_count": 4,
   "id": "8b686065-a05b-4346-abf7-028a3ee73433",
   "metadata": {},
   "outputs": [],
   "source": [
    "pos = PMT.GenEventPosition(x_offset = 0.0, y_offset = 0.0, size = 10, distribution = 'uniform')"
   ]
  },
  {
   "cell_type": "code",
   "execution_count": 5,
   "id": "c0de32ea-42e3-4d27-9c14-6b035b6bf657",
   "metadata": {},
   "outputs": [
    {
     "data": {
      "text/plain": [
       "array([[37.87249855, 59.42557809],\n",
       "       [36.52893139, 67.60211157],\n",
       "       [45.11249937, 36.28338729],\n",
       "       [ 7.57192211, 17.23345521],\n",
       "       [46.14063884, 37.73606315],\n",
       "       [16.39629334,  5.09808321],\n",
       "       [30.28392402, 15.94642315],\n",
       "       [37.70089923, 52.47369387],\n",
       "       [40.24859787, 15.64708345],\n",
       "       [12.61094343, 10.02633452]])"
      ]
     },
     "execution_count": 5,
     "metadata": {},
     "output_type": "execute_result"
    }
   ],
   "source": [
    "pos"
   ]
  },
  {
   "cell_type": "code",
   "execution_count": 6,
   "id": "29a8b226-b094-45eb-a53d-d16570ed5c5b",
   "metadata": {},
   "outputs": [],
   "source": [
    "R = PMT.GetR(PMT_pos = np.array([25.0, 40.0]), Event_pos = pos)"
   ]
  },
  {
   "cell_type": "code",
   "execution_count": 7,
   "id": "49bd50ef-41fe-4698-9fc7-42e35603f248",
   "metadata": {},
   "outputs": [
    {
     "data": {
      "text/plain": [
       "array([64.366562  , 67.04321608, 63.39026614, 66.49852224, 63.65573046,\n",
       "       69.94403165, 64.85749311, 62.58518898, 66.52506506, 68.20490705])"
      ]
     },
     "execution_count": 7,
     "metadata": {},
     "output_type": "execute_result"
    }
   ],
   "source": [
    "R"
   ]
  },
  {
   "cell_type": "code",
   "execution_count": 8,
   "id": "f203e979-814f-4bdb-87ee-1ede84eaf5ee",
   "metadata": {},
   "outputs": [],
   "source": [
    "PMT_pos = np.array([[25.0, 20.0], [25.0, 60.0]])\n",
    "R_all   = PMT.GetR_All(PMT_pos = PMT_pos, Event_pos = pos)"
   ]
  },
  {
   "cell_type": "code",
   "execution_count": 9,
   "id": "5a21b969-8e56-415d-a523-90891b3a74cd",
   "metadata": {},
   "outputs": [
    {
     "data": {
      "text/plain": [
       "(10, 2)"
      ]
     },
     "execution_count": 9,
     "metadata": {},
     "output_type": "execute_result"
    }
   ],
   "source": [
    "R_all.shape"
   ]
  },
  {
   "cell_type": "code",
   "execution_count": 10,
   "id": "8392b90b-7c0d-4098-ae98-4ac1cdc0d694",
   "metadata": {},
   "outputs": [
    {
     "data": {
      "text/plain": [
       "array([[72.93886088, 61.36799801],\n",
       "       [77.45241949, 61.56872875],\n",
       "       [65.34264559, 67.57951131],\n",
       "       [62.54111983, 75.71469641],\n",
       "       [66.04161223, 67.39888348],\n",
       "       [62.41867423, 81.78168643],\n",
       "       [60.36846311, 74.62330391],\n",
       "       [69.39635174, 61.78962797],\n",
       "       [62.06019352, 76.15576763],\n",
       "       [62.07223796, 79.06235491]])"
      ]
     },
     "execution_count": 10,
     "metadata": {},
     "output_type": "execute_result"
    }
   ],
   "source": [
    "R_all"
   ]
  },
  {
   "cell_type": "code",
   "execution_count": 11,
   "id": "61cb0fdf-224a-444c-9e7d-a22c227d98c1",
   "metadata": {},
   "outputs": [],
   "source": [
    "ints = PMT.GetIntegrals(R_all, energy = 5.9, LY = 8500.0)"
   ]
  },
  {
   "cell_type": "code",
   "execution_count": 12,
   "id": "7d1ad963-8388-4e01-b596-2b19175b8d42",
   "metadata": {},
   "outputs": [
    {
     "data": {
      "text/plain": [
       "array([[9.40818346e-06, 1.87747369e-05],\n",
       "       [7.39948898e-06, 1.85310888e-05],\n",
       "       [1.46067914e-05, 1.27667836e-05],\n",
       "       [1.74052021e-05, 8.10253549e-06],\n",
       "       [1.39981620e-05, 1.29041937e-05],\n",
       "       [1.75421784e-05, 5.95274715e-06],\n",
       "       [2.00493919e-05, 8.58704602e-06],\n",
       "       [1.14814073e-05, 1.82675103e-05],\n",
       "       [1.79510221e-05, 7.91645018e-06],\n",
       "       [1.79370933e-05, 6.81495041e-06]])"
      ]
     },
     "execution_count": 12,
     "metadata": {},
     "output_type": "execute_result"
    }
   ],
   "source": [
    "ints"
   ]
  },
  {
   "cell_type": "code",
   "execution_count": null,
   "id": "c05e85bf-ec2e-427b-9dfa-af61d282970e",
   "metadata": {},
   "outputs": [],
   "source": []
  }
 ],
 "metadata": {
  "kernelspec": {
   "display_name": "Python 3 (ipykernel)",
   "language": "python",
   "name": "python3"
  },
  "language_info": {
   "codemirror_mode": {
    "name": "ipython",
    "version": 3
   },
   "file_extension": ".py",
   "mimetype": "text/x-python",
   "name": "python",
   "nbconvert_exporter": "python",
   "pygments_lexer": "ipython3",
   "version": "3.9.19"
  }
 },
 "nbformat": 4,
 "nbformat_minor": 5
}
